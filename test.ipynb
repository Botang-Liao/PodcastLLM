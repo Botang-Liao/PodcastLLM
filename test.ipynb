{
 "cells": [
  {
   "cell_type": "code",
   "execution_count": 14,
   "metadata": {},
   "outputs": [
    {
     "name": "stdout",
     "output_type": "stream",
     "text": [
      "                                               使用者問題  Unnamed: 1  \\\n",
      "0                                        明月堂現在是幾代目接班         NaN   \n",
      "1                                          台美文化差異的內容         NaN   \n",
      "2  請問Joe &amp; Jet 未過濾的 with Jason中有哪幾集節目有討論到職業聯盟合併？         NaN   \n",
      "3                       根據林書豪的描述,新北國王隊在本賽季面臨了哪些主要挑戰?         NaN   \n",
      "4                           林書豪提到球隊傷病問題如何影響了球隊的整體表現?         NaN   \n",
      "\n",
      "                                               LLM回答  Unnamed: 3  \\\n",
      "0  根據檢索資料，明月堂現在是第三代目接班。小周老闆是第三代的代表，而不是第一代，也不是第二代。...         NaN   \n",
      "1  根據檢索資料，台美文化差異的內容如下：美國和台灣的文化差異在於工作態度和時間管理上。（節目標...         NaN   \n",
      "2  根據檢索資料，Joe & Jet 未過濾的 with Jason 中有以下幾集節目討論到職業...         NaN   \n",
      "3  根據檢索資料，新北國王隊在本賽季面臨了以下主要挑戰：\\n在聯盟的第二週和第三週的賽事中，國王...         NaN   \n",
      "4  根據檢索資料，林書豪提到球隊傷病問題如何影響了球隊的整體表現如下：他們原本的Kairi和Ha...         NaN   \n",
      "\n",
      "                                                正確答案  Unnamed: 5  GPT給分  \\\n",
      "0                       明月堂現在的接班人是第三代，現任老闆是小周老闆（周恆儀）         NaN    3.0   \n",
      "1  婚禮穿著差異：在美國，穿著正式的西裝即使在婚禮上也不會過於正式（\"you're never ...         NaN    2.0   \n",
      "2  Episode 3 Joe和Jet一輩子難忘的Kobe memory Joe and Jet...         NaN    1.0   \n",
      "3  根據林書豪的描述,新北國王隊在本賽季面臨了多重挑戰\\n,包括:1) 球隊內部問題,如球員問題...         NaN    2.0   \n",
      "4  林書豪提到傷病問題嚴重影響了球隊表現。他表示:'如果打球的人就少,又有要修到兩個月以上,那接...         NaN    2.0   \n",
      "\n",
      "                                 標準  Unnamed: 8  使用者給分  \\\n",
      "0                   1分: 完全與使用者的問題無關         NaN    3.0   \n",
      "1  2分:可以檢索到與使用者prompt相似的內容，但有部分訊息錯誤         NaN    3.0   \n",
      "2  3分 : 完全命中使用者的問題(prompt)，且回答內容也正確         NaN    2.0   \n",
      "3                               NaN         NaN    NaN   \n",
      "4                               NaN         NaN    NaN   \n",
      "\n",
      "                               標準.1 Unnamed: 11  Unnamed: 12  Unnamed: 13  \\\n",
      "0                   1分: 完全與使用者的問題無關           3          NaN          NaN   \n",
      "1  2分:可以檢索到與使用者prompt相似的內容，但有部分訊息錯誤           3          NaN          NaN   \n",
      "2  3分 : 完全命中使用者的問題(prompt)，且回答內容也正確           2          NaN          NaN   \n",
      "3                               NaN           3          NaN          NaN   \n",
      "4                               NaN           2          NaN          NaN   \n",
      "\n",
      "       次數  1分: 完全與使用者的問題無關  2分:可以檢索到與使用者prompt相似的內容，但有部分訊息錯誤  \\\n",
      "0  使用者_柏均              7.0                              37.0   \n",
      "1     GPT              2.0                              35.0   \n",
      "2     NaN              NaN                               NaN   \n",
      "3     NaN              NaN                               NaN   \n",
      "4     NaN              NaN                               NaN   \n",
      "\n",
      "   3分 : 完全命中使用者的問題(prompt)，且回答內容也正確  \n",
      "0                              56.0  \n",
      "1                              63.0  \n",
      "2                               NaN  \n",
      "3                               NaN  \n",
      "4                               NaN  \n"
     ]
    }
   ],
   "source": [
    "import pandas as pd\n",
    "\n",
    "# 讀取 Excel 檔案\n",
    "file_path = '/home/liaobaitang/projects/PodcastLLM/dataset/Podcast_QAdataset.xlsx'  # 替換為你的實際路徑\n",
    "# file_path = '/Applications/botang/docker/pythonPodcastLLM-workspace/projects/PodcastLLM/dataset/Podcast_QAdataset.xlsx'\n",
    "df = pd.read_excel(file_path)\n",
    " \n",
    "# 顯示前幾列確認資料正確讀取\n",
    "print(df.head())"
   ]
  },
  {
   "cell_type": "code",
   "execution_count": 15,
   "metadata": {},
   "outputs": [],
   "source": [
    "df.rename(columns={'使用者問題': 'question'}, inplace=True)\n",
    "df.rename(columns={'LLM回答': 'llm_answer'}, inplace=True)\n",
    "df.rename(columns={'正確答案': 'correct_answer'}, inplace=True)"
   ]
  },
  {
   "cell_type": "code",
   "execution_count": 16,
   "metadata": {},
   "outputs": [
    {
     "data": {
      "text/html": [
       "<div>\n",
       "<style scoped>\n",
       "    .dataframe tbody tr th:only-of-type {\n",
       "        vertical-align: middle;\n",
       "    }\n",
       "\n",
       "    .dataframe tbody tr th {\n",
       "        vertical-align: top;\n",
       "    }\n",
       "\n",
       "    .dataframe thead th {\n",
       "        text-align: right;\n",
       "    }\n",
       "</style>\n",
       "<table border=\"1\" class=\"dataframe\">\n",
       "  <thead>\n",
       "    <tr style=\"text-align: right;\">\n",
       "      <th></th>\n",
       "      <th>question</th>\n",
       "      <th>llm_answer</th>\n",
       "      <th>correct_answer</th>\n",
       "    </tr>\n",
       "  </thead>\n",
       "  <tbody>\n",
       "    <tr>\n",
       "      <th>0</th>\n",
       "      <td>明月堂現在是幾代目接班</td>\n",
       "      <td>根據檢索資料，明月堂現在是第三代目接班。小周老闆是第三代的代表，而不是第一代，也不是第二代。...</td>\n",
       "      <td>明月堂現在的接班人是第三代，現任老闆是小周老闆（周恆儀）</td>\n",
       "    </tr>\n",
       "    <tr>\n",
       "      <th>1</th>\n",
       "      <td>台美文化差異的內容</td>\n",
       "      <td>根據檢索資料，台美文化差異的內容如下：美國和台灣的文化差異在於工作態度和時間管理上。（節目標...</td>\n",
       "      <td>婚禮穿著差異：在美國，穿著正式的西裝即使在婚禮上也不會過於正式（\"you're never ...</td>\n",
       "    </tr>\n",
       "    <tr>\n",
       "      <th>2</th>\n",
       "      <td>請問Joe &amp;amp; Jet 未過濾的 with Jason中有哪幾集節目有討論到職業聯盟合併？</td>\n",
       "      <td>根據檢索資料，Joe &amp; Jet 未過濾的 with Jason 中有以下幾集節目討論到職業...</td>\n",
       "      <td>Episode 3 Joe和Jet一輩子難忘的Kobe memory Joe and Jet...</td>\n",
       "    </tr>\n",
       "    <tr>\n",
       "      <th>3</th>\n",
       "      <td>根據林書豪的描述,新北國王隊在本賽季面臨了哪些主要挑戰?</td>\n",
       "      <td>根據檢索資料，新北國王隊在本賽季面臨了以下主要挑戰：\\n在聯盟的第二週和第三週的賽事中，國王...</td>\n",
       "      <td>根據林書豪的描述,新北國王隊在本賽季面臨了多重挑戰\\n,包括:1) 球隊內部問題,如球員問題...</td>\n",
       "    </tr>\n",
       "    <tr>\n",
       "      <th>4</th>\n",
       "      <td>林書豪提到球隊傷病問題如何影響了球隊的整體表現?</td>\n",
       "      <td>根據檢索資料，林書豪提到球隊傷病問題如何影響了球隊的整體表現如下：他們原本的Kairi和Ha...</td>\n",
       "      <td>林書豪提到傷病問題嚴重影響了球隊表現。他表示:'如果打球的人就少,又有要修到兩個月以上,那接...</td>\n",
       "    </tr>\n",
       "    <tr>\n",
       "      <th>...</th>\n",
       "      <td>...</td>\n",
       "      <td>...</td>\n",
       "      <td>...</td>\n",
       "    </tr>\n",
       "    <tr>\n",
       "      <th>95</th>\n",
       "      <td>關於蛤蝦品牌的未來發展規劃,我想找出在哪裡有提過?</td>\n",
       "      <td>根據檢索資料，我們可以得知蛤蝦品牌的未來發展規劃如下：\\n\\n根據檢索資料，陳仕杰希望蛤蝦品...</td>\n",
       "      <td>寧可當吃貨的「EP94 ｜吃貨來抬槓：立志成為霸者的友善養殖戶 ft 蛤蝦 陳仕杰」中討論了...</td>\n",
       "    </tr>\n",
       "    <tr>\n",
       "      <th>96</th>\n",
       "      <td>請問哪裡有提到安南區的養殖產業現況?</td>\n",
       "      <td>根據檢索資料，我們可以得知安南區的養殖產業現況如下：\\n\\n根據檢索資料，安南區是臺南市的一...</td>\n",
       "      <td>寧可當吃貨的「EP94 ｜吃貨來抬槓：立志成為霸者的友善養殖戶 ft 蛤蝦 陳仕杰」中討論了...</td>\n",
       "    </tr>\n",
       "    <tr>\n",
       "      <th>97</th>\n",
       "      <td>我想了解蛤蜊的價格變化,請問哪裡有相關內容?</td>\n",
       "      <td>根據檢索資料，我們可以得知蛤蜊的價格變化如下：\\n\\n根據檢索資料，在蛤蝦品牌的官網上購買時...</td>\n",
       "      <td>寧可當吃貨的「EP94 ｜吃貨來抬槓：立志成為霸者的友善養殖戶 ft 蛤蝦 陳仕杰」中提到了...</td>\n",
       "    </tr>\n",
       "    <tr>\n",
       "      <th>98</th>\n",
       "      <td>關於蛤蝦品牌的創新產品,我想找出在哪裡有提過?</td>\n",
       "      <td>根據檢索資料，我們可以得知蛤蝦品牌的創新產品如下：\\n\\n根據檢索資料，陳仕杰希望蛤蝦品牌能...</td>\n",
       "      <td>寧可當吃貨的「EP94 ｜吃貨來抬槓：立志成為霸者的友善養殖戶 ft 蛤蝦 陳仕杰」中提到了...</td>\n",
       "    </tr>\n",
       "    <tr>\n",
       "      <th>99</th>\n",
       "      <td>我想了解蛤蜊養殖對環境的影響,請問哪裡有提到相關內容?</td>\n",
       "      <td>根據檢索資料，我們可以得知蛤蜊養殖對環境的影響如下：\\n\\n海水的鹹度會影響蛤蜊成長的速度，...</td>\n",
       "      <td>寧可當吃貨的「EP94 ｜吃貨來抬槓：立志成為霸者的友善養殖戶 ft 蛤蝦 陳仕杰」中提到了...</td>\n",
       "    </tr>\n",
       "  </tbody>\n",
       "</table>\n",
       "<p>100 rows × 3 columns</p>\n",
       "</div>"
      ],
      "text/plain": [
       "                                             question  \\\n",
       "0                                         明月堂現在是幾代目接班   \n",
       "1                                           台美文化差異的內容   \n",
       "2   請問Joe &amp; Jet 未過濾的 with Jason中有哪幾集節目有討論到職業聯盟合併？   \n",
       "3                        根據林書豪的描述,新北國王隊在本賽季面臨了哪些主要挑戰?   \n",
       "4                            林書豪提到球隊傷病問題如何影響了球隊的整體表現?   \n",
       "..                                                ...   \n",
       "95                          關於蛤蝦品牌的未來發展規劃,我想找出在哪裡有提過?   \n",
       "96                                 請問哪裡有提到安南區的養殖產業現況?   \n",
       "97                             我想了解蛤蜊的價格變化,請問哪裡有相關內容?   \n",
       "98                            關於蛤蝦品牌的創新產品,我想找出在哪裡有提過?   \n",
       "99                        我想了解蛤蜊養殖對環境的影響,請問哪裡有提到相關內容?   \n",
       "\n",
       "                                           llm_answer  \\\n",
       "0   根據檢索資料，明月堂現在是第三代目接班。小周老闆是第三代的代表，而不是第一代，也不是第二代。...   \n",
       "1   根據檢索資料，台美文化差異的內容如下：美國和台灣的文化差異在於工作態度和時間管理上。（節目標...   \n",
       "2   根據檢索資料，Joe & Jet 未過濾的 with Jason 中有以下幾集節目討論到職業...   \n",
       "3   根據檢索資料，新北國王隊在本賽季面臨了以下主要挑戰：\\n在聯盟的第二週和第三週的賽事中，國王...   \n",
       "4   根據檢索資料，林書豪提到球隊傷病問題如何影響了球隊的整體表現如下：他們原本的Kairi和Ha...   \n",
       "..                                                ...   \n",
       "95  根據檢索資料，我們可以得知蛤蝦品牌的未來發展規劃如下：\\n\\n根據檢索資料，陳仕杰希望蛤蝦品...   \n",
       "96  根據檢索資料，我們可以得知安南區的養殖產業現況如下：\\n\\n根據檢索資料，安南區是臺南市的一...   \n",
       "97  根據檢索資料，我們可以得知蛤蜊的價格變化如下：\\n\\n根據檢索資料，在蛤蝦品牌的官網上購買時...   \n",
       "98  根據檢索資料，我們可以得知蛤蝦品牌的創新產品如下：\\n\\n根據檢索資料，陳仕杰希望蛤蝦品牌能...   \n",
       "99  根據檢索資料，我們可以得知蛤蜊養殖對環境的影響如下：\\n\\n海水的鹹度會影響蛤蜊成長的速度，...   \n",
       "\n",
       "                                       correct_answer  \n",
       "0                        明月堂現在的接班人是第三代，現任老闆是小周老闆（周恆儀）  \n",
       "1   婚禮穿著差異：在美國，穿著正式的西裝即使在婚禮上也不會過於正式（\"you're never ...  \n",
       "2   Episode 3 Joe和Jet一輩子難忘的Kobe memory Joe and Jet...  \n",
       "3   根據林書豪的描述,新北國王隊在本賽季面臨了多重挑戰\\n,包括:1) 球隊內部問題,如球員問題...  \n",
       "4   林書豪提到傷病問題嚴重影響了球隊表現。他表示:'如果打球的人就少,又有要修到兩個月以上,那接...  \n",
       "..                                                ...  \n",
       "95  寧可當吃貨的「EP94 ｜吃貨來抬槓：立志成為霸者的友善養殖戶 ft 蛤蝦 陳仕杰」中討論了...  \n",
       "96  寧可當吃貨的「EP94 ｜吃貨來抬槓：立志成為霸者的友善養殖戶 ft 蛤蝦 陳仕杰」中討論了...  \n",
       "97  寧可當吃貨的「EP94 ｜吃貨來抬槓：立志成為霸者的友善養殖戶 ft 蛤蝦 陳仕杰」中提到了...  \n",
       "98  寧可當吃貨的「EP94 ｜吃貨來抬槓：立志成為霸者的友善養殖戶 ft 蛤蝦 陳仕杰」中提到了...  \n",
       "99  寧可當吃貨的「EP94 ｜吃貨來抬槓：立志成為霸者的友善養殖戶 ft 蛤蝦 陳仕杰」中提到了...  \n",
       "\n",
       "[100 rows x 3 columns]"
      ]
     },
     "execution_count": 16,
     "metadata": {},
     "output_type": "execute_result"
    }
   ],
   "source": [
    "# 只保留需要的欄位 : question, llm_answer, correct_answer\n",
    "df = df[['question', 'llm_answer', 'correct_answer']]\n",
    "# 刪除有 NaN 的行\n",
    "df.dropna(subset=['question', 'llm_answer', 'correct_answer'], inplace=True)\n",
    "df"
   ]
  },
  {
   "cell_type": "code",
   "execution_count": 18,
   "metadata": {},
   "outputs": [
    {
     "name": "stderr",
     "output_type": "stream",
     "text": [
      "/usr/local/lib/python3.8/dist-packages/tqdm/auto.py:21: TqdmWarning: IProgress not found. Please update jupyter and ipywidgets. See https://ipywidgets.readthedocs.io/en/stable/user_install.html\n",
      "  from .autonotebook import tqdm as notebook_tqdm\n"
     ]
    }
   ],
   "source": [
    "from sklearn.metrics.pairwise import cosine_similarity\n",
    "from sentence_transformers import SentenceTransformer"
   ]
  },
  {
   "cell_type": "code",
   "execution_count": 21,
   "metadata": {},
   "outputs": [
    {
     "name": "stderr",
     "output_type": "stream",
     "text": [
      "Xet Storage is enabled for this repo, but the 'hf_xet' package is not installed. Falling back to regular HTTP download. For better performance, install the package with: `pip install huggingface_hub[hf_xet]` or `pip install hf_xet`\n"
     ]
    }
   ],
   "source": [
    "model = SentenceTransformer('all-MiniLM-L6-v2')"
   ]
  },
  {
   "cell_type": "code",
   "execution_count": 20,
   "metadata": {},
   "outputs": [
    {
     "ename": "NameError",
     "evalue": "name 'model' is not defined",
     "output_type": "error",
     "traceback": [
      "\u001b[0;31m---------------------------------------------------------------------------\u001b[0m",
      "\u001b[0;31mNameError\u001b[0m                                 Traceback (most recent call last)",
      "Cell \u001b[0;32mIn[20], line 7\u001b[0m\n\u001b[1;32m      4\u001b[0m correct_answer \u001b[39m=\u001b[39m row[\u001b[39m'\u001b[39m\u001b[39mcorrect_answer\u001b[39m\u001b[39m'\u001b[39m]\n\u001b[1;32m      6\u001b[0m \u001b[39m# 將LLM回答和正確答案轉換為嵌入向量\u001b[39;00m\n\u001b[0;32m----> 7\u001b[0m llm_answer_embedding \u001b[39m=\u001b[39m model\u001b[39m.\u001b[39mencode(llm_answer)\n\u001b[1;32m      8\u001b[0m correct_answer_embedding \u001b[39m=\u001b[39m model\u001b[39m.\u001b[39mencode(correct_answer)\n\u001b[1;32m     10\u001b[0m \u001b[39m# 計算餘弦相似度\u001b[39;00m\n",
      "\u001b[0;31mNameError\u001b[0m: name 'model' is not defined"
     ]
    }
   ],
   "source": [
    "# 逐一拿出每一行的LLM回答和正確答案\n",
    "for index, row in df.iterrows():\n",
    "    llm_answer = row['llm_answer']\n",
    "    correct_answer = row['correct_answer']\n",
    "\n",
    "    # 將LLM回答和正確答案轉換為嵌入向量\n",
    "    llm_answer_embedding = model.encode(llm_answer)\n",
    "    correct_answer_embedding = model.encode(correct_answer)\n",
    "\n",
    "    # 計算餘弦相似度\n",
    "    similarity = cosine_similarity([llm_answer_embedding], [correct_answer_embedding])[0][0]\n",
    "\n",
    "    # 將相似度添加到DataFrame中\n",
    "    df.at[index, 'similarity'] = similarity\n",
    "    \n",
    "# 計算平均相似度\n",
    "average_similarity = df['similarity'].mean()\n",
    "\n",
    "# 將結果寫入新的Excel檔案\n",
    "output_file_path = '/home/liaobaitang/projects/PodcastLLM/dataset/Podcast_QAdataset_with_similarity.xlsx'\n",
    "\n"
   ]
  }
 ],
 "metadata": {
  "kernelspec": {
   "display_name": "Python 3",
   "language": "python",
   "name": "python3"
  },
  "language_info": {
   "codemirror_mode": {
    "name": "ipython",
    "version": 3
   },
   "file_extension": ".py",
   "mimetype": "text/x-python",
   "name": "python",
   "nbconvert_exporter": "python",
   "pygments_lexer": "ipython3",
   "version": "3.11.4"
  },
  "orig_nbformat": 4
 },
 "nbformat": 4,
 "nbformat_minor": 2
}
